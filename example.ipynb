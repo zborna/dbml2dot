{
 "cells": [
  {
   "cell_type": "code",
   "execution_count": 1,
   "metadata": {},
   "outputs": [],
   "source": [
    "# Import necessary classes and functions\n",
    "import pydbml.classes\n",
    "import pathlib\n",
    "from dbml2dot.generators import generate_graph_from_dbml\n",
    "\n",
    "# Specify input and output filenames\n",
    "input_filename = 'test.dbml'\n",
    "output_filename = 'test'\n",
    "\n",
    "# Specify a name for the graph\n",
    "graph_name = 'ERD Test'\n",
    "\n",
    "# Open the input file and read its contents\n",
    "with open(pathlib.Path(input_filename), 'r') as f:\n",
    "    input_data = f.read()\n",
    "\n",
    "# Convert the input data to a PyDBML object\n",
    "dbml = pydbml.PyDBML(input_data)\n",
    "\n",
    "# Generate a graph from the PyDBML object\n",
    "graph = generate_graph_from_dbml(dbml, graph_name)\n",
    "\n",
    "# Write the graph to a DOT file\n",
    "with open(pathlib.Path(f'{output_filename}.dot'), \"w\") as f:\n",
    "    f.write(graph.to_string())\n",
    "\n",
    "# Write the graph to SVG and PNG files\n",
    "graph.write_svg(pathlib.Path(f'{output_filename}.svg'))\n",
    "graph.write_png(pathlib.Path(f'{output_filename}.png'))"
   ]
  }
 ],
 "metadata": {
  "kernelspec": {
   "display_name": "Python 3",
   "language": "python",
   "name": "python3"
  },
  "language_info": {
   "codemirror_mode": {
    "name": "ipython",
    "version": 3
   },
   "file_extension": ".py",
   "mimetype": "text/x-python",
   "name": "python",
   "nbconvert_exporter": "python",
   "pygments_lexer": "ipython3",
   "version": "3.9.13"
  },
  "orig_nbformat": 4,
  "vscode": {
   "interpreter": {
    "hash": "0231656221878b8d95870d43fe2a6c265f262b31a475f1165baedc82f408ead7"
   }
  }
 },
 "nbformat": 4,
 "nbformat_minor": 2
}
